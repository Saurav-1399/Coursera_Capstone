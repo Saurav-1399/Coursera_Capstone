{
  "nbformat": 4,
  "nbformat_minor": 0,
  "metadata": {
    "kernelspec": {
      "name": "python3",
      "display_name": "Python 3.7",
      "language": "python"
    },
    "language_info": {
      "name": "python",
      "version": "3.7.9",
      "mimetype": "text/x-python",
      "codemirror_mode": {
        "name": "ipython",
        "version": 3
      },
      "pygments_lexer": "ipython3",
      "nbconvert_exporter": "python",
      "file_extension": ".py"
    },
    "colab": {
      "name": "The Battle of Neighborhoods.ipynb",
      "provenance": [],
      "include_colab_link": true
    }
  },
  "cells": [
    {
      "cell_type": "markdown",
      "metadata": {
        "id": "view-in-github",
        "colab_type": "text"
      },
      "source": [
        "<a href=\"https://colab.research.google.com/github/Saurav-1399/Coursera_Capstone/blob/main/The_Battle_of_Neighborhoods-Report.ipynb\" target=\"_parent\"><img src=\"https://colab.research.google.com/assets/colab-badge.svg\" alt=\"Open In Colab\"/></a>"
      ]
    },
    {
      "cell_type": "markdown",
      "metadata": {
        "collapsed": true,
        "id": "JZbMyYoL1nBJ"
      },
      "source": [
        "# The Battle of Neighborhoods"
      ]
    },
    {
      "cell_type": "markdown",
      "metadata": {
        "id": "WzbvSzR21nBO"
      },
      "source": [
        "Author: Saurav Menon M"
      ]
    },
    {
      "cell_type": "markdown",
      "metadata": {
        "id": "TlstX8ns1nBP"
      },
      "source": [
        "Date: 13th November 2020"
      ]
    },
    {
      "cell_type": "markdown",
      "metadata": {
        "id": "XN2fG0Th1nBP"
      },
      "source": [
        "# 1. Introduction"
      ]
    },
    {
      "cell_type": "markdown",
      "metadata": {
        "id": "kQG27R4X1nBQ"
      },
      "source": [
        "Travel has been a part of our lives for a long time. Travel Experiences give our travelers the ability to experience the local culture while traveling in a relaxed way. Traveling is one of the best way to enhance personal growth. It enables you to do things different from your daily routine activities. When you travel, you step out from your comfort zone to a different environment which  makes you become more responsible and  gives a sense of independence.\n",
        "\n",
        "London and Paris are quite the popular tourist and vacation destinations for people all around the world. They are diverse and multicultural and offer a wide variety of experiences that is widely sought after. We try to group the neighbourhoods of London and Paris respectively and draw insights to what they look like now."
      ]
    },
    {
      "cell_type": "markdown",
      "metadata": {
        "id": "brfJSTaN1nBR"
      },
      "source": [
        "# 2. Business Problem"
      ]
    },
    {
      "cell_type": "markdown",
      "metadata": {
        "id": "z16enFgW1nBS"
      },
      "source": [
        "The aim is to help tourists choose their destinations depending on the experiences that the neighbourhoods have to offer and what they would want to have. This also helps people make decisions if they are thinking about migrating to London or Paris or even if they want to relocate neighbourhoods within the city. Our findings will help stakeholders make informed decisions and address any concerns they have including the different kinds of cuisines, provision stores and what the city has to offer."
      ]
    },
    {
      "cell_type": "markdown",
      "metadata": {
        "id": "lfvbXMkI1nBS"
      },
      "source": [
        "# 3. Data Description"
      ]
    },
    {
      "cell_type": "markdown",
      "metadata": {
        "id": "bXFtrz_s1nBT"
      },
      "source": [
        "We require geographical location data for both London and Paris. Postal codes in each city serve as a starting point. Using Postal codes we use can find out the neighborhoods, boroughs, venues and their most popular venue categories."
      ]
    },
    {
      "cell_type": "markdown",
      "metadata": {
        "id": "NCfFAFpC1nBT"
      },
      "source": [
        "## 3.1 London"
      ]
    },
    {
      "cell_type": "markdown",
      "metadata": {
        "id": "wq6repnN1nBT"
      },
      "source": [
        "To derive our solution, We scrape our data from https://en.wikipedia.org/wiki/List_of_areas_of_London\n",
        "\n",
        "This wikipedia page has information about all the neighbourhoods, we limit it London.\n",
        "\n",
        "1. borough : Name of Neighbourhood\n",
        "2. town : Name of borough\n",
        "3. post_code : Postal codes for London.\n",
        "\n",
        "This wikipedia page lacks information about the geographical locations. To solve this problem we use ArcGIS API"
      ]
    },
    {
      "cell_type": "markdown",
      "metadata": {
        "id": "QLPOswOR1nBU"
      },
      "source": [
        "## 3.2 ArcGIS API"
      ]
    },
    {
      "cell_type": "markdown",
      "metadata": {
        "id": "FZDg-ihf1nBU"
      },
      "source": [
        "ArcGIS Online enables you to connect people, locations, and data using interactive maps. Work with smart, data-driven styles and intuitive analysis tools that deliver location intelligence. Share your insights with the world or specific groups.\n",
        "\n",
        "More specifically, we use ArcGIS to get the geo locations of the neighbourhoods of London. The following columns are added to our initial dataset which prepares our data.\n",
        "\n",
        "1. latitude : Latitude for Neighbourhood\n",
        "2. longitude : Longitude for Neighbourhood"
      ]
    },
    {
      "cell_type": "markdown",
      "metadata": {
        "id": "lvtjaWmL1nBV"
      },
      "source": [
        "## 3.3 Paris"
      ]
    },
    {
      "cell_type": "markdown",
      "metadata": {
        "id": "3bovVOMA1nBV"
      },
      "source": [
        "To derive our solution, We leverage JSON data available at https://www.data.gouv.fr/fr/datasets/r/e88c6fda-1d09-42a0-a069-606d3259114e\n",
        "\n",
        "The JSON file has data about all the neighbourhoods in France, we limit it to Paris.\n",
        "\n",
        "1. postal_code : Postal codes for France\n",
        "2. nom_comm : Name of Neighbourhoods in France\n",
        "3. nom_dept : Name of the boroughs, equivalent to towns in France\n",
        "4. geo_point_2d : Tuple containing the latitude and longitude of the Neighbourhoods."
      ]
    },
    {
      "cell_type": "markdown",
      "metadata": {
        "id": "V5C1J_Fh1nBV"
      },
      "source": [
        "## 3.4 Foursquare API Data"
      ]
    },
    {
      "cell_type": "markdown",
      "metadata": {
        "id": "mD5IRBkg1nBW"
      },
      "source": [
        "We will need data about different venues in different neighbourhoods of that specific borough. In order to gain that information we will use \"Foursquare\" locational information. Foursquare is a location data provider with information about all manner of venues and events within an area of interest. Such information includes venue names, locations, menus and even photos. As such, the foursquare location platform will be used as the sole data source since all the stated required information can be obtained through the API.\n",
        "\n",
        "After finding the list of neighbourhoods, we then connect to the Foursquare API to gather information about venues inside each and every neighbourhood. For each neighbourhood, we have chosen the radius to be 500 meters.\n",
        "\n",
        "The data retrieved from Foursquare contained information of venues within a specified distance of the longitude and latitude of the postcodes. The information obtained per venue as follows:\n",
        "\n",
        "1. Neighbourhood : Name of the Neighbourhood\n",
        "2. Neighbourhood Latitude : Latitude of the Neighbourhood\n",
        "3. Neighbourhood Longitude : Longitude of the Neighbourhood\n",
        "4. Venue : Name of the Venue\n",
        "5. Venue Latitude : Latitude of Venue\n",
        "6. Venue Longitude : Longitude of Venue\n",
        "7. Venue Category : Category of Venue\n",
        "\n",
        "Based on all the information collected for both London and Paris, we have sufficient data to build our model. We cluster the neighbourhoods together based on similar venue categories. We then present our observations and findings. Using this data, our stakeholders can take the necessary decision."
      ]
    },
    {
      "cell_type": "markdown",
      "metadata": {
        "id": "tSFswQVl1nBW"
      },
      "source": [
        "# 4. Methodology"
      ]
    },
    {
      "cell_type": "markdown",
      "metadata": {
        "id": "jHRu8D2k1nBX"
      },
      "source": [
        "We will be creating our model with the help of Python so we start off by importing all the required packages.\n",
        "\n",
        "Package breakdown:\n",
        "\n",
        "1. Pandas : To collect and manipulate data in JSON and HTMl and then data analysis\n",
        "2. requests : Handle http requests\n",
        "3. matplotlib : Detailing the generated maps\n",
        "4. folium : Generating maps of London and Paris\n",
        "5. sklearn : To import Kmeans which is the machine learning model that we are using.\n",
        "\n",
        "The approach taken here is to explore each of the cities individually, plot the map to show the neighbourhoods being considered and then build our model by clustering all of the similar neighbourhoods together and finally plot the new map with the clustered neighbourhoods. We draw insights and then compare and discuss our findings."
      ]
    },
    {
      "cell_type": "markdown",
      "metadata": {
        "id": "WETDOD_71nBX"
      },
      "source": [
        "## 4.1 Data Collection"
      ]
    },
    {
      "cell_type": "markdown",
      "metadata": {
        "id": "KPorLEyA1nBX"
      },
      "source": [
        "In the data collection stage, we begin with collecting the required data for the cities of London and Paris. We need data that has the postal codes, neighbourhoods and boroughs specific to each of the cities.\n",
        "\n",
        "To collect data for London, we scrape the List of areas of London wikipedia page to take the 2nd table using the following code:"
      ]
    },
    {
      "cell_type": "markdown",
      "metadata": {
        "id": "1SWZ9_yR1nBY"
      },
      "source": [
        "![image.png](attachment:image.png)"
      ]
    },
    {
      "cell_type": "markdown",
      "metadata": {
        "id": "XUFMY3OF1nBY"
      },
      "source": [
        "To collect data for Paris, we download the JSON file containg all the postal codes of France from https://www.data.gouv.fr/fr/datasets/r/e88c6fda-1d09-42a0-a069-606d3259114e\n",
        "\n",
        "Using Pandas we load the table after reading the JSON file:"
      ]
    },
    {
      "cell_type": "markdown",
      "metadata": {
        "id": "dWMJK40V1nBZ"
      },
      "source": [
        "![image.png](attachment:image.png)"
      ]
    },
    {
      "cell_type": "markdown",
      "metadata": {
        "id": "BsdzH97x1nBZ"
      },
      "source": [
        "## 4.2 Data Preprocessing"
      ]
    },
    {
      "cell_type": "markdown",
      "metadata": {
        "id": "bEIH_o2L1nBZ"
      },
      "source": [
        "For London, We replace the spaces with underscores in the title.The borough column has numbers within square brackets that we remove using:\n",
        "\n",
        "![image.png](attachment:image.png)\n",
        "\n",
        "For Paris, we break down each of the nested fields and create the dataframe that we need:\n",
        "\n",
        "![image-2.png](attachment:image-2.png)"
      ]
    },
    {
      "cell_type": "markdown",
      "metadata": {
        "id": "vfUAk3hj1nBa"
      },
      "source": [
        "## 4.3 Feature Selection\n",
        "\n",
        "For both of our datasets, we need only the borough, neighbourhood, postal codes and geolocations (latitude and longitude). So we end up selecting the columns that we need by:\n",
        "\n",
        "![image.png](attachment:image.png)"
      ]
    },
    {
      "cell_type": "markdown",
      "metadata": {
        "id": "zv3-a4YH1nBa"
      },
      "source": [
        "## 4.4 Feature Engineering\n",
        "\n",
        "Both of our Datasets actually contain information related to all the cities in the country. We can narrow down and further process the data by selecting only the neighbourhoods pertaining to 'London' and 'Paris'\n",
        "\n",
        "![image.png](attachment:image.png)\n",
        "\n",
        "Looking over our London dataset, we can see that we don't have the geolocation data. We need to extrapolate the missing data for our neighbourhoods. We perform this by leveraging the ArcGIS API. With the Help of ArcGIS API we can get the latitude and longitude of our London neighbourhood data.\n",
        "\n",
        "![image-2.png](attachment:image-2.png)\n",
        "\n",
        "Defining London arcgis geocode function to return latitude and longitude\n",
        "\n",
        "![image-3.png](attachment:image-3.png)\n",
        "\n",
        "Passing postal codes of london to get the geographical co-ordinates\n",
        "\n",
        "![image-4.png](attachment:image-4.png)\n",
        "\n",
        "We proceed with Merging our source data with the geographical co-ordinates to make our dataset ready for the next stage\n",
        "\n",
        "![image-5.png](attachment:image-5.png)\n",
        "\n",
        "As for our Paris dataset, we don't need to get the geo coordinates using an external data source or collect it with the ArcGIS API call since we already have it stored in the geo_point_2d column as a tuple in the df_paris dataframe.\n",
        "\n",
        "We just need to extract the latitude and longitude for the column:\n",
        "\n",
        "![image-6.png](attachment:image-6.png)\n",
        "\n",
        "We then create our Paris dataset with the required information:\n",
        "\n",
        "![image-7.png](attachment:image-7.png)\n",
        "\n",
        "Note: Both the datasets have been properly processed and formatted. Since the same steps are applied to both the datasets of London and Paris, we will be discussing the code for only the London dataset for simplicity."
      ]
    },
    {
      "cell_type": "markdown",
      "metadata": {
        "id": "6N334ljH1nBa"
      },
      "source": [
        "## 4.5 Visualizing the Neighbourhoods of London and Paris\n",
        "\n",
        "Now that our datasets are ready, using the Folium package, we can visualize the maps of London and Paris with the neighbourhoods that we collected.\n",
        "\n",
        "This is where Foursquare comes into play. With the help of Foursquare we define a function which collects information pertaining to each neighbourhood including that of the name of the neighbourhood, geo-coordinates, venue and venue categories.\n",
        "\n",
        "![image-3.png](attachment:image-3.png)"
      ]
    },
    {
      "cell_type": "markdown",
      "metadata": {
        "id": "gTqOp6d81nBb"
      },
      "source": [
        "## 4.6 One Hot Encoding\n",
        "\n",
        "Since we are trying to find out what are the different kinds of venue categories present in each neighbourhood and then calculate the top 10 common venues to base our similarity on, we use the One Hot Encoding to work with our categorical datatype of the venue categories. This helps to convert the categorical data into numeric data.\n",
        "\n",
        "We won't be using label encoding in this situation since label encoding might cause our machine learning model to have a bias or a sort of ranking which we are trying to avoid by using One Hot Encoding.\n",
        "\n",
        "We perform one hot encoding and then calculate the mean of the grouped venue categories for each of the neighbourhoods.\n",
        "\n",
        "![image.png](attachment:image.png)"
      ]
    },
    {
      "cell_type": "markdown",
      "metadata": {
        "id": "E0OWvsRr1nBb"
      },
      "source": [
        "## 4.7 Top Venues in the Neighbourhoods\n",
        "\n",
        "In our next step, We need to rank and label the top venue categories in our neighborhood.\n",
        "\n",
        "Let's define a function to get the top venue categories in the neighbourhood\n",
        "\n",
        "![image.png](attachment:image.png)\n",
        "\n",
        "There are many categories, we will consider top 10 categories to avoid data skew.\n",
        "\n",
        "Defining a function to label them accurately\n",
        "\n",
        "![image-2.png](attachment:image-2.png)\n",
        "\n",
        "Getting the top venue categories in the neighbourhoods of London\n",
        "\n",
        "![image-3.png](attachment:image-3.png)"
      ]
    },
    {
      "cell_type": "markdown",
      "metadata": {
        "id": "C-m0yPT-1nBb"
      },
      "source": [
        "## 4.8 Model Building - KMeans\n",
        "\n",
        "Moving on to the most exicitng part - Model Building! We will be using KMeans Clustering Machine learning algorithm to cluster similar neighbourhoods together. We will be going with the number of clusters as 5.\n",
        "\n",
        "![image.png](attachment:image.png)\n",
        "\n",
        "Our model has labelled each of the neighbourhoods, we add the label into our dataset.\n",
        "\n",
        "![image-2.png](attachment:image-2.png)\n",
        "\n",
        "We then join London_merged with our neighbourhood venues sorted to add latitude & longitude for each of the neighborhood to prepare it for visualization.\n",
        "\n",
        "![image-3.png](attachment:image-3.png)"
      ]
    },
    {
      "cell_type": "markdown",
      "metadata": {
        "id": "KXTqCHKx1nBc"
      },
      "source": [
        "## 4.9 Visualizing the clustered Neighbourhoods\n",
        "\n",
        "Our data is processed, missing data is collected and compiled. The Model is built. All that's remaining is to see the clustered neighbourhoods on the map. Again, we use Folium package to do so.\n",
        "\n",
        "We drop all the NaN values to prevent data skew\n",
        "\n",
        "![image.png](attachment:image.png)"
      ]
    },
    {
      "cell_type": "markdown",
      "metadata": {
        "id": "Eear6H_h1nBc"
      },
      "source": [
        "### 4.9.1 Examining our Clusters\n",
        "\n",
        "We could examine our clusters by expanding on our code using the Cluster Labels column:\n",
        "\n",
        "Cluster 1\n",
        "\n",
        "![image.png](attachment:image.png)\n",
        "\n",
        "Cluster 2\n",
        "\n",
        "![image-2.png](attachment:image-2.png)\n",
        "\n",
        "Cluster 3\n",
        "\n",
        "![image-3.png](attachment:image-3.png)\n",
        "\n",
        "Cluster 4\n",
        "\n",
        "![image-4.png](attachment:image-4.png)\n",
        "\n",
        "Cluster 5\n",
        "\n",
        "![image-5.png](attachment:image-5.png)"
      ]
    },
    {
      "cell_type": "markdown",
      "metadata": {
        "id": "CGmAXAzW1nBc"
      },
      "source": [
        "# 5. Results and Discussion\n",
        "\n",
        "The neighbourhoods of London are very mulitcultural. There are a lot of different cusines including Indian, Italian, Turkish and Chinese. London seems to take a step further in this direction by having a lot of Restaurants, bars, juice bars, coffee shops, Fish and Chips shop and Breakfast spots. It has a lot of shopping options too with that of the Flea markets, flower shops, fish markets, Fishing stores, clothing stores. The main modes of transport seem to be Buses and trains. For leisure, the neighbourhoods are set up to have lots of parks, golf courses, zoo, gyms and Historic sites. Overall, the city of London offers a multicultural, diverse and certainly an entertaining experience.\n",
        "\n",
        "Paris is relatively small in size geographically. It has a wide variety of cusines and eateries including French, Thai, Cambodian, Asian, Chinese etc. There are a lot of hangout spots including many Restaurants and Bars. Paris has a lot of Bistro's. Different means of public transport in Paris which includes buses, bikes, boats or ferries. For leisure and sight seeing, there are a lot of Plazas, Trails, Parks, Historic sites, clothing shops, Art galleries and Museums. Overall, Paris seems like the relaxing vacation spot with a mix of lakes, historic spots and a wide variety of cusines to try out."
      ]
    },
    {
      "cell_type": "markdown",
      "metadata": {
        "id": "ogHtwF_L1nBd"
      },
      "source": [
        "# 6. Conclusion\n",
        "\n",
        "The purpose of this project was to explore the cities of London and Paris and see how attractive it is to potential tourists and migrants. We explored both the cities based on their postal codes and then extrapolated the common venues present in each of the neighbourhoods finally concluding with clustering similar neighbourhoods together.\n",
        "\n",
        "We could see that each of the neighbourhoods in both the cities have a wide variety of experiences to offer which is unique in it's own way. The cultural diversity is quite evident which also gives the feeling of a sense of inclusion.\n",
        "\n",
        "Both Paris and London seem to offer a vacation stay or a romantic getaway with a lot of places to explore, beautiful landscapes, amazing food and a wide variety of culture. Overall, it's upto the stakeholders to decide which experience they would prefer more and which would more to their liking."
      ]
    },
    {
      "cell_type": "markdown",
      "metadata": {
        "id": "LtMRqDyw1nBd"
      },
      "source": [
        "# 7. References\n",
        "\n",
        "1. The Battle of Neighbourhood — My London’s Perspective by Dayo John\n",
        "2. The Battle of neighborhoods! What is the best place where can I start my restaurant business in Paris? by Zakaria BOUZIANE\n",
        "3. Foursquare API\n",
        "4. ArcGIS API"
      ]
    }
  ]
}